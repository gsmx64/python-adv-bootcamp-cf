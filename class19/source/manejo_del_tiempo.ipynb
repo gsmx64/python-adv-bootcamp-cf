{
 "cells": [
  {
   "cell_type": "markdown",
   "metadata": {},
   "source": [
    "#   <center>**MANEJO DEL TIEMPO**</center>"
   ]
  },
  {
   "cell_type": "markdown",
   "metadata": {},
   "source": [
    "##  **1. ¿QUÉ ES LA REPRESENTACIÓN DE INFORMACIÓN?**\n",
    "\n",
    "La representación de información en programación se refiere a la forma en que los datos se almacenan y manipulan en una computadora para que puedan ser procesados por un programa. Los datos en una computadora se representan mediante diferentes estructuras y formatos, dependiendo de su tipo y uso específico. Una representación de información adecuada es fundamental para asegurar que los datos se manejen correctamente y se obtengan resultados precisos y coherentes."
   ]
  },
  {
   "cell_type": "markdown",
   "metadata": {},
   "source": [
    "### **1.1. REPRESENTAR**\n",
    "\n",
    "**MODELADO**\n",
    "\n",
    "Significa transformar un dato del mundo real en un formato que pueda ser:\n",
    "*   Almacenado\n",
    "*   Procesado\n",
    "*   Recuperado\n",
    "\n",
    "Por una computadora."
   ]
  },
  {
   "cell_type": "markdown",
   "metadata": {},
   "source": [
    "####    **1.1.1. NÚMEROS**\n",
    "\n",
    "El número **5** es un número entero que representa 5 unidades de algo.\n",
    "\n",
    "Como ejemplo puede representar 5 perros, 5 autos, etc.\n",
    "\n",
    "*   Cinco: Letra\n",
    "*   5: Entero\n",
    "*   Five: Ingles\n",
    "*   🖐️: Mano\n",
    "\n",
    "Las formas de representación de números en las computadoras son:\n",
    "\n",
    "*   Decimal: Representación en base 10, como números enteros y fracciones.\n",
    "*   Binario: Representación en base 2, utilizando 0 y 1.\n",
    "*   Hexadecimal: Representación en base 16, usando dígitos de 0 a 9 y letras A-F.\n",
    "*   Octal: Representación en base 8, empleando dígitos de 0 a 7.\n",
    "*   Punto flotante: Representación de números reales con mantisa y exponente."
   ]
  },
  {
   "cell_type": "markdown",
   "metadata": {},
   "source": [
    "####    **1.1.2. COLORES**\n",
    "\n",
    "La representación del color está relacionada con la longitud de onda de la luz visible y cómo los objetos interactúan con ella.\n",
    "\n",
    "Las formas de representación de color en las computadoras son:\n",
    "\n",
    "*   RGB (Red, Green, Blue): Combina intensidades de los tres colores primarios para formar otros colores.\n",
    "*   CMYK (Cyan, Magenta, Yellow, Key/Black): Utilizado en impresión, mezcla colores sustractivos.\n",
    "*   HSV (Hue, Saturation, Value): Representa el color mediante matiz, saturación y brillo.\n",
    "*   HEX: Representación hexadecimal de color, ampliamente utilizada en diseño web.\n",
    "*   Paletas de colores indexados: Asigna colores de una paleta predefinida a cada píxel.\n",
    "*   Espacios de color ampliados: Formatos que incluyen información adicional para una representación más precisa. Ejemplo: Adobe RGB, sRGB."
   ]
  },
  {
   "cell_type": "markdown",
   "metadata": {},
   "source": [
    "####    **1.1.3. SONIDOS**\n",
    "\n",
    "Los sonidos son vibraciones mecánicas u ondas de presión que se propagan a través de un medio, como el aire, el agua o sólidos, y que son percibidas por el oído humano o por dispositivos que pueden convertirlas en señales eléctricas y reproducirlas. En términos más técnicos, el sonido es una forma de energía mecánica que se transmite en forma de ondas longitudinales.\n",
    "\n",
    "Las formas de representación de los sonidos en las computadoras son:\n",
    "\n",
    "*   Forma de onda digital: Almacena muestras del sonido a intervalos regulares, representando la amplitud de la señal en cada punto.\n",
    "*   Formato MIDI: Utiliza eventos y mensajes para representar notas musicales y sus propiedades, como duración e intensidad.\n",
    "*   Formato comprimido (MP3, AAC, etc.): Reduce el tamaño de los archivos de audio eliminando información no perceptible para el oído humano.\n",
    "*   Formato PCM (Pulse-Code Modulation): Almacena el sonido como una secuencia de valores numéricos que representan la amplitud de la señal en diferentes momentos.\n",
    "*   Formato de Forma de Onda (WAV): Es un tipo de archivo de audio sin pérdida que almacena la forma de onda digital sin comprimir.\n",
    "*   Formato de Audio sin pérdida (FLAC, ALAC, etc.): Ofrece una compresión sin pérdida, reduciendo el tamaño del archivo sin sacrificar la calidad del sonido original.\n",
    "*   Formato de Audio Espacial (Dolby Atmos, DTS:X): Permite representar el sonido en un espacio tridimensional, ofreciendo una experiencia de audio más inmersiva."
   ]
  },
  {
   "cell_type": "markdown",
   "metadata": {},
   "source": [
    "####    **1.1.4. EL TIEMPO**\n",
    "\n",
    "La representación de fechas y tiempos en programación es esencial para ordenar y coordinar eventos en el tiempo. Dado que los eventos pueden ocurrir en diferentes órdenes, la fecha permite entender la secuencia y coordinar adecuadamente entre ellos. Sin embargo, es importante tener en cuenta que en programación, no siempre los eventos llegan con exactitud, por lo que es necesario considerar la precisión y posibles discrepancias temporales. La manipulación adecuada de fechas y tiempos es fundamental para lograr un funcionamiento preciso y coherente de las aplicaciones."
   ]
  },
  {
   "cell_type": "markdown",
   "metadata": {},
   "source": [
    "*   **FECHA**\n",
    "    *   Una fecha representa un día en el calendario. Un día en el calendario es un periodo de (casi siempre) 24 horas.\n",
    "*   **HORA**\n",
    "    *   Una hora representa un periodo específico de tiempo dentro de un día dado.\n",
    "*   **CALENDARIO**\n",
    "    *   Un calendario puede definirse como un sistema organizado de división del tiempo, que se extiende generalmente en días, semanas, meses y años.\n",
    "Es como un mapa del tiempo que los humanos hemos diseñado para registrar, planificar y coordinar eventos y actividades.\n",
    "*   **ZONA HORARIA**\n",
    "    *   Una zona horaria es una región del mundo que observa un tiempo estándar unifrome para los propóstiso legales, comerciales y sociales.\n",
    "Estas zonas se establecen en base a los meridianos, las líneas imaginarias que recorren la tierra de polo a polo.\n",
    "*   **TIMESTAMP**\n",
    "    *   Un timestamp (marca de tiempo en español) es una representación numérica que indica un momento específico en el tiempo. En el contexto de la informática y la programación, un timestamp generalmente se refiere a un valor que representa la cantidad de tiempo transcurrido desde un punto de referencia particular, conocido como \"época\" o \"epoch\".\n",
    "\n",
    "    *   El epoch es una fecha y hora específica desde la cual se comienza a contar el tiempo. En sistemas Unix y muchos otros entornos de programación, el epoch más comúnmente utilizado es el 1 de enero de 1970 a las 00:00:00 UTC (Coordinated Universal Time).\n",
    "\n",
    "    *   El timestamp se expresa típicamente en segundos o milisegundos desde el epoch. Por ejemplo, si un timestamp tiene un valor de 1626712880, esto corresponde al momento en que han transcurrido 1626712880 segundos desde el 1 de enero de 1970.\n",
    "    \n",
    "    *   Los timestamps son ampliamente utilizados en programación para realizar operaciones con fechas y tiempos, como comparaciones, cálculos de intervalos, registro de eventos y ordenación cronológica. Al representar el tiempo como un valor numérico, se facilita su manipulación y almacenamiento en bases de datos y estructuras de datos, permitiendo una gestión más eficiente del tiempo en aplicaciones y sistemas informáticos."
   ]
  },
  {
   "cell_type": "markdown",
   "metadata": {},
   "source": [
    "####    **1.1.5. GMT Y UTC**\n",
    "\n",
    "GMT (Greenwich Mean Time) y UTC (Coordinated Universal Time) son dos estándares de tiempo ampliamente utilizados en todo el mundo:\n",
    "\n",
    "**GMT (Greenwich Mean Time)**\n",
    "\n",
    "Es el tiempo medio basado en el tiempo solar aparente en el Observatorio Real de Greenwich en Londres, Inglaterra. Históricamente, GMT fue utilizado como una referencia para medir el tiempo globalmente, siendo el punto de partida para establecer las zonas horarias. Sin embargo, desde 1972, ha sido reemplazado gradualmente por UTC.\n",
    "\n",
    "**UTC (Coordinated Universal Time)**\n",
    "\n",
    "Es un estándar de tiempo global altamente preciso y sincronizado con relojes atómicos. UTC se mantiene mediante servicios de tiempo altamente precisos y se utiliza ampliamente como el tiempo de referencia para la mayoría de las aplicaciones en todo el mundo. Se ajusta ocasionalmente mediante segundos intercalares para mantenerse sincronizado con las variaciones en la rotación de la Tierra.\n",
    "\n",
    "Aunque GMT y UTC son conceptos similares, hay una diferencia técnica importante entre ellos:\n",
    "\n",
    "GMT se basa en la rotación de la Tierra y puede variar debido a factores astronómicos, como las variaciones en la velocidad de rotación de la Tierra.\n",
    "UTC, en cambio, se basa en relojes atómicos altamente precisos y se ajusta según sea necesario para mantener una sincronización uniforme con los patrones de rotación de la Tierra, lo que garantiza que sea extremadamente preciso.\n",
    "En la práctica, GMT y UTC a menudo se usan indistintamente debido a que la diferencia entre ellos es mínima y la mayoría de las personas no requieren una precisión mayor en su uso cotidiano. Sin embargo, en términos técnicos y científicos, es importante utilizar UTC como estándar de tiempo debido a su alta precisión y su relación con los relojes atómicos modernos."
   ]
  },
  {
   "cell_type": "markdown",
   "metadata": {},
   "source": [
    "### **1.2. REPRESENTACIÓN DEL TIEMPO EN PYTHON**\n",
    "\n",
    "Lo más conveniente en FECHAS se debería basar en el ISO 8601.\n",
    "\n",
    "**Fecha y hora actual expresada según ISO 8601**\n",
    "*   **Fecha:**\t2023-07-19\n",
    "*   **Fecha y hora en UTC:**\n",
    "    *   2023-07-19T13:19:40+00:00\n",
    "    *   2023-07-19T13:19:40Z\n",
    "    *   20230719T131940Z\n",
    "*   **Semana:**\t2023-W29\n",
    "*   **Fecha con número de semana:**\t2023-W29-3\n",
    "*   **Fecha sin año:**\t--07-191​\n",
    "*   **Fecha ordinal:**\t2023-200"
   ]
  },
  {
   "attachments": {
    "image.png": {
     "image/png": "[encoded data removed]"
    }
   },
   "cell_type": "markdown",
   "metadata": {},
   "source": [
    "![image.png](attachment:image.png)"
   ]
  },
  {
   "cell_type": "code",
   "execution_count": 26,
   "metadata": {},
   "outputs": [
    {
     "data": {
      "text/plain": [
       "1689811856.4157095"
      ]
     },
     "execution_count": 26,
     "metadata": {},
     "output_type": "execute_result"
    }
   ],
   "source": [
    "#   UNIX TIME\n",
    "#   VER CUANTOS SEGUNDOS HAN TRANSCURRIDOS DESDE EL 1 DE ENERO DE 1970.\n",
    "import time\n",
    "time.time() "
   ]
  },
  {
   "cell_type": "code",
   "execution_count": 24,
   "metadata": {},
   "outputs": [
    {
     "data": {
      "text/plain": [
       "4.0"
      ]
     },
     "execution_count": 24,
     "metadata": {},
     "output_type": "execute_result"
    }
   ],
   "source": [
    "#   VERIFICAR NUESTRA ZONA HORARIA:\n",
    "zona_horaria = time.timezone/3600\n",
    "zona_horaria"
   ]
  },
  {
   "cell_type": "code",
   "execution_count": 23,
   "metadata": {},
   "outputs": [
    {
     "data": {
      "text/plain": [
       "datetime.datetime(2023, 7, 19, 20, 9, 53, 454054)"
      ]
     },
     "execution_count": 23,
     "metadata": {},
     "output_type": "execute_result"
    }
   ],
   "source": [
    "#   REPRESENTACIÓN DE UN PUNTO EN EL TIEMPO DE NUESTRO PC\n",
    "import datetime\n",
    "datetime.datetime.now() #   NOS DEVUELVE LA FECHA Y LA HORA (AÑO, MES, DÍA, HORA, MINUTO, SEGUNDOS, MILISEGUNDOS) DE NUESTRO PC"
   ]
  },
  {
   "cell_type": "code",
   "execution_count": 46,
   "metadata": {},
   "outputs": [
    {
     "data": {
      "text/plain": [
       "datetime.datetime(2023, 7, 19, 18, 20, 43, 73843, tzinfo=zoneinfo.ZoneInfo(key='America/Mexico_city'))"
      ]
     },
     "execution_count": 46,
     "metadata": {},
     "output_type": "execute_result"
    }
   ],
   "source": [
    "#   REPRESENTACIÓN DE UN PUNTO EN EL TIEMPO DE UNA ZONA ESPECIFICA\n",
    "from zoneinfo import ZoneInfo\n",
    "from datetime import datetime\n",
    "\n",
    "datetime.now(ZoneInfo('America/Mexico_city'))"
   ]
  },
  {
   "cell_type": "code",
   "execution_count": 50,
   "metadata": {},
   "outputs": [
    {
     "data": {
      "text/plain": [
       "datetime.datetime(2023, 7, 20, 0, 24, 19, 258561, tzinfo=zoneinfo.ZoneInfo(key='UTC'))"
      ]
     },
     "execution_count": 50,
     "metadata": {},
     "output_type": "execute_result"
    }
   ],
   "source": [
    "#   REPRESENTAR LA ZONA HORARIA DE GMT A UTC\n",
    "\n",
    "ahorita = datetime.now(ZoneInfo('UTC'))\n",
    "ahorita"
   ]
  },
  {
   "cell_type": "markdown",
   "metadata": {},
   "source": [
    "SI VAN A OBTENER LA HORA SIEMPRE RECIBANLA CON LA ZONA HORARIA EN LA QUE SE ENCUENTRA, ES MUY UTIL PARA PODER INTERACTUAR Y TENER UNA BUENA REPRESENTACIÓN Y COORDINACIÓN.\n",
    "\n",
    "LAS FECHAS INGENIAS SON LAS FECHAS SIN ZONAS HORARIAS."
   ]
  },
  {
   "cell_type": "markdown",
   "metadata": {},
   "source": [
    "TAMPOCO HAGAN ARITMÉTICA CON FECHAS, ES DECIR, NO TRATEN DE SUMAR, RESTAR, MULTIPLICAR O DIVIDIR FECHAS, MEJOR USEN LIBRERÍAS, YA QUE SE PUEDEN EQUIVOCAR."
   ]
  },
  {
   "cell_type": "code",
   "execution_count": 58,
   "metadata": {},
   "outputs": [
    {
     "data": {
      "text/plain": [
       "datetime.datetime(2023, 7, 21, 20, 53, 28, 68637)"
      ]
     },
     "execution_count": 58,
     "metadata": {},
     "output_type": "execute_result"
    }
   ],
   "source": [
    "from datetime import datetime, timedelta\n",
    "\n",
    "sumar_dia = datetime.now() + timedelta(days=2)\n",
    "sumar_dia   #   SIN ZONA HORARIA"
   ]
  },
  {
   "cell_type": "code",
   "execution_count": 60,
   "metadata": {},
   "outputs": [
    {
     "data": {
      "text/plain": [
       "datetime.datetime(2023, 7, 20, 18, 54, 11, 751856, tzinfo=zoneinfo.ZoneInfo(key='America/Mexico_city'))"
      ]
     },
     "execution_count": 60,
     "metadata": {},
     "output_type": "execute_result"
    }
   ],
   "source": [
    "from datetime import datetime, timedelta\n",
    "from zoneinfo import ZoneInfo\n",
    "\n",
    "sumar_dia_con_zona = datetime.now(ZoneInfo('America/Mexico_city')) + timedelta(days=1)\n",
    "sumar_dia_con_zona   #   CON ZONA HORARIA"
   ]
  },
  {
   "cell_type": "code",
   "execution_count": 61,
   "metadata": {},
   "outputs": [
    {
     "data": {
      "text/plain": [
       "datetime.datetime(2023, 7, 21, 0, 54, 38, 808302, tzinfo=zoneinfo.ZoneInfo(key='UTC'))"
      ]
     },
     "execution_count": 61,
     "metadata": {},
     "output_type": "execute_result"
    }
   ],
   "source": [
    "from datetime import datetime, timedelta\n",
    "from zoneinfo import ZoneInfo\n",
    "\n",
    "sumar_dia_con_utc = datetime.now(ZoneInfo('UTC')) + timedelta(days=1)\n",
    "sumar_dia_con_utc   #   CON ZONA HORARIA"
   ]
  },
  {
   "cell_type": "code",
   "execution_count": 51,
   "metadata": {},
   "outputs": [],
   "source": [
    "#   time_zone.utils.py"
   ]
  },
  {
   "cell_type": "markdown",
   "metadata": {},
   "source": [
    "### **1.3. FALSEDADES QUE LOS PROGRAMADORES CREEN SOBRE EL TIEMPO**\n",
    "\n",
    "Esta es una lista compilada de falsedades que los programadores tienden a creer sobre el trabajo con el tiempo.\n",
    "\n",
    "**No** reinventes tú mismo una biblioteca de fecha y hora.\n",
    "Si crees que lo entiendes todo sobre el tiempo, probablemente lo estés haciendo mal.\n",
    "\n",
    "## Falsedades\n",
    "- Un día siempre tiene 24 horas.\n",
    "- Febrero siempre tiene 28 días.\n",
    "- Cualquier período de 24 horas siempre empieza y acaba en el mismo día (o semana, o mes).\n",
    "- Una semana siempre empieza y acaba en el mismo mes.\n",
    "- Una semana (o un mes) siempre empieza y acaba en el mismo año.\n",
    "- La máquina en la que se ejecuta un programa siempre estará en la zona horaria `GMT`.\n",
    "- Vale, eso no es cierto. Pero al menos nunca cambiará la zona horaria en la que tiene que ejecutarse un programa.\n",
    "- Bueno, seguramente nunca habrá un cambio en la zona horaria en la que un programa tiene que ejecutarse en producción.\n",
    "- El reloj del sistema siempre estará ajustado a la hora local correcta.\n",
    "- El reloj del sistema siempre se ajustará a una hora que no sea muy diferente de la hora local correcta.\n",
    "- Si el reloj del sistema es incorrecto, al menos siempre se retrasará un número constante de segundos.\n",
    "- El reloj del servidor y el reloj del cliente siempre estarán ajustados a la misma hora.\n",
    "- El reloj del servidor y el reloj del cliente siempre estarán ajustados aproximadamente a la misma hora.\n",
    "- De acuerdo, pero la hora en el reloj del servidor y la hora en el reloj del cliente nunca diferirían en cuestión de décadas.\n",
    "- Si el reloj del servidor y el del cliente no están sincronizados, al menos siempre lo estarán en un número de segundos constante.\n",
    "- El reloj del servidor y el del cliente utilizarán la misma zona horaria.\n",
    "- El reloj del sistema nunca se ajustará a una hora que se encuentre en un pasado lejano o en un futuro lejano.\n",
    "- El tiempo no tiene principio ni fin.\n",
    "- Un minuto en el reloj del sistema tiene exactamente la misma duración que un minuto en cualquier otro reloj.\n",
    "- De acuerdo, pero la duración de un minuto en el reloj del sistema será bastante parecida a la duración de un minuto en la mayoría de los demás relojes.\n",
    "- Bien, pero la duración de un minuto en el reloj del sistema nunca será superior a una hora.\n",
    "- La unidad de tiempo más pequeña es un segundo.\n",
    "- Vale, un milisegundo.\n",
    "- Nunca será necesario ajustar la hora del sistema a otro valor que no sea la hora local correcta.\n",
    "- De acuerdo, las pruebas pueden requerir ajustar la hora del sistema a un valor distinto de la hora local correcta, pero nunca será necesario hacerlo en producción.\n",
    "- Las marcas de tiempo siempre se especificarán en un formato comúnmente entendido como `1339972628` o `133997262837`.\n",
    "- Las marcas de tiempo se especificarán siempre en el mismo formato.\n",
    "- Las marcas de tiempo siempre tendrán el mismo nivel de precisión.\n",
    "- Una marca de tiempo con suficiente precisión puede considerarse única.\n",
    "- Una marca de tiempo representa el momento en que ocurrió realmente un evento.\n",
    "- Las fechas legibles para el ser humano pueden especificarse en formatos universalmente comprensibles como `05/07/11`.\n",
    "- Los desfases entre dos zonas horarias permanecerán constantes.\n",
    "- De acuerdo, dejando a un lado las rarezas históricas, los desfases entre dos husos horarios no cambiarán en el futuro.\n",
    "- Los cambios en los desfases entre husos horarios se producirán con suficiente antelación.\n",
    "- El horario de verano es el mismo todos los años.\n",
    "- El horario de verano se aplica a la misma hora en todos los husos horarios.\n",
    "- El horario de verano se ajusta siempre en una hora.\n",
    "- Los meses tienen 28, 29, 30 ó 31 días.\n",
    "- El día del mes siempre avanza de forma contigua desde `N` hasta `N+1` o `1`, sin discontinuidades.\n",
    "- Sólo hay un sistema de calendario en uso al mismo tiempo.\n",
    "- Hay un año bisiesto cada año divisible por 4.\n",
    "- Los años no bisiestos nunca contendrán un día bisiesto.\n",
    "- Será fácil calcular la duración de x número de horas y minutos a partir de un momento determinado.\n",
    "- El mismo mes tiene el mismo número de días en todas partes.\n",
    "- El tiempo Unix ignora todo excepto los segundos.\n",
    "- El tiempo Unix es el número de segundos transcurridos desde el 1 de enero de 1970.\n",
    "- La víspera del sábado es siempre viernes.\n",
    "- Las zonas horarias contiguas no tienen más de una hora de diferencia. (aka no necesitamos probar lo que le pasa a la aviónica cuando vuelas sobre la Línea Internacional de la Fecha)\n",
    "- Dos zonas horarias que difieren lo harán por un número entero de medias horas.\n",
    "- Vale, cuartos de hora.\n",
    "- Vale, segundos, pero será una diferencia consistente si ignoramos `DST`.\n",
    "- Si creas dos objetos fecha uno al lado del otro, representarán la misma hora. (un fantástico generador de Heisenbug)\n",
    "- Puedes esperar a que el reloj alcance exactamente `HH:MM:SS` muestreando una vez por segundo.\n",
    "- Si un proceso se ejecuta durante `n` segundos y luego termina, aproximadamente `n` segundos habrán transcurrido en el reloj del sistema en el momento de la terminación.\n",
    "- Las semanas empiezan el lunes.\n",
    "- Los días comienzan por la mañana.\n",
    "- Las vacaciones abarcan un número entero de días enteros.\n",
    "- El fin de semana consta de sábado y domingo.\n",
    "- Es posible establecer un orden total en las marcas de tiempo que sea útil fuera de su sistema.\n",
    "- El desfase horario local (respecto a `UTC`) no cambiará durante las horas de oficina.\n",
    "- Thread.sleep(1000)` duerme durante 1000 milisegundos.\n",
    "- Thread.sleep(1000)` duerme durante `>=` 1000 milisegundos.\n",
    "- Hay 60 segundos en cada minuto.\n",
    "- Las marcas de tiempo siempre avanzan monotónicamente.\n",
    "- GMT` y `UTC` son la misma zona horaria.\n",
    "- Gran Bretaña utiliza `GMT`.\n",
    "- El tiempo siempre avanza.\n",
    "- La diferencia entre la hora actual y una semana a partir de la hora actual es siempre de `7 * 86400` segundos.\n",
    "- La diferencia entre dos marcas de tiempo es una medida exacta del tiempo transcurrido entre ellas.\n",
    "- 24:12:34` es una hora no válida.\n",
    "- Cada número entero es un año teórico posible.\n",
    "- Si muestra una fecha y hora, la hora mostrada tiene la misma segunda parte que la hora almacenada,\n",
    "- O el mismo año,\n",
    "- Pero al menos la diferencia numérica entre el año mostrado y el almacenado será menor que 2.\n",
    "- Si tiene una fecha en formato correcto \"AAAA-MM-DD\", el año consta de cuatro caracteres.\n",
    "- Si fusiona dos fechas, tomando el mes de la primera y el día/año de la segunda, obtendrá una fecha válida.\n",
    "- Pero funcionará, si ambos años son bisiestos\n",
    "- Si toma un algoritmo publicado por w3c para añadir duraciones a las fechas, funcionará en todos los casos.\n",
    "- La biblioteca estándar soporta años negativos y años por encima de 10000.\n",
    "- Las zonas horarias siempre difieren en una hora entera.\n",
    "- Si convierte una fecha-hora con precisión de milisegundos en una fecha-hora con precisión de segundos, puede ignorar con seguridad las fracciones de milisegundos.\n",
    "- Pero puede ignorar la fracción de milisegundo si es inferior a 0,5.\n",
    "- Los años de dos dígitos deben estar comprendidos entre 1900 y 2099.\n",
    "- Si analiza una fecha y hora, puede leer los números carácter por carácter, sin necesidad de retroceder.\n",
    "- Pero si imprime una fecha y hora, puede escribir los números carácter por carácter, sin necesidad de retroceder.\n",
    "- Nunca tendrás que analizar un formato como `---12Z` o `P12Y34M56DT78H90M12.345S`.\n",
    "- Sólo hay 24 husos horarios.\n",
    "- Las zonas horarias están siempre a horas enteras de UTC.\n",
    "- El horario de verano (DST) comienza/finaliza en la misma fecha en todas partes.\n",
    "- El horario de verano siempre se adelanta 1 hora.\n",
    "- Leer el reloj del cliente y compararlo con UTC es una buena forma de determinar su zona horaria.\n",
    "- La pila de software intentará/no intentará ajustarse automáticamente a la zona horaria/DST.\n",
    "- Mi software sólo se utiliza internamente/localmente, así que no tengo que preocuparme por las zonas horarias.\n",
    "- Mi pila de software se encargará de ello sin que yo tenga que hacer nada especial.\n",
    "- Yo mismo puedo mantener fácilmente una lista de zonas horarias.\n",
    "- Todas las mediciones del tiempo en un reloj determinado se producirán dentro del mismo marco de referencia.\n",
    "- El hecho de que una función basada en la fecha funcione ahora significa que funcionará en cualquier fecha.\n",
    "- Los años tienen 365 o 366 días.\n",
    "- Cada fecha del calendario va seguida de la siguiente en secuencia, sin saltos.\n",
    "- Una fecha y/o una hora determinadas identifican inequívocamente un momento único.\n",
    "- Los años bisiestos se producen cada 4 años.\n",
    "- Puede determinar la zona horaria a partir del estado/provincia.\n",
    "- Se puede determinar el huso horario a partir de la ciudad.\n",
    "- El tiempo pasa a la misma velocidad en la cima de una montaña y en el fondo de un valle.\n",
    "- Una hora dura lo mismo que la siguiente en todos los sistemas horarios.\n",
    "- Puede calcular cuándo se añadirán los segundos intercalares.\n",
    "- La precisión del tipo de dato devuelto por una función `getCurrentTime()` es la misma que la precisión de dicha función.\n",
    "- Dos llamadas posteriores a una función `getCurrentTime()` devolverán resultados distintos.\n",
    "- La segunda de dos llamadas posteriores a una función `getCurrentTime()` devolverá un resultado mayor.\n",
    "- El software nunca se ejecutará en una nave espacial que esté orbitando un agujero negro.\n",
    "- Los dispositivos se ajustarán a la zona horaria local\n",
    "- Los usuarios prefieren utilizar la zona horaria local\n",
    "\n",
    "## Fuentes\n",
    "Esta lista se basa en estos artículos.\n",
    "Puede encontrar información más detallada sobre cada afirmación en uno de los dos artículos.\n",
    "\n",
    "- https://gist.github.com/timvisee/fcda9bbdff88d45cc9061606b4b923ca\n",
    "- http://infiniteundo.com/post/25326999628/falsehoods-programmers-believe-about-time\n",
    "- http://infiniteundo.com/post/25509354022/more-falsehoods-programmers-believe-about-time"
   ]
  }
 ],
 "metadata": {
  "kernelspec": {
   "display_name": "Python 3",
   "language": "python",
   "name": "python3"
  },
  "language_info": {
   "codemirror_mode": {
    "name": "ipython",
    "version": 3
   },
   "file_extension": ".py",
   "mimetype": "text/x-python",
   "name": "python",
   "nbconvert_exporter": "python",
   "pygments_lexer": "ipython3",
   "version": "3.11.2"
  },
  "orig_nbformat": 4
 },
 "nbformat": 4,
 "nbformat_minor": 2
}

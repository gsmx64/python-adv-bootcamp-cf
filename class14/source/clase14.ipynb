{
 "cells": [
  {
   "cell_type": "markdown",
   "metadata": {},
   "source": [
    "#   **BUSQUEDA DE BUGS**"
   ]
  },
  {
   "cell_type": "markdown",
   "metadata": {},
   "source": [
    "##   **EXCEPCIONES**\n",
    "Las excepciones o errores terminan el programa de forma abrupta en algunos lenguajes, en otros retorna 0.\n",
    "\n",
    "La sintaxis en Python es:\n",
    "\n",
    "```python\n",
    "    try:\n",
    "        pass    #   Se intenta ejecutar la operación\n",
    "    except:\n",
    "        pass    #   Se ejecuta si hubo una excepción\n",
    "    else:\n",
    "        pass    #   Se ejecuta si la operación tuvo exito\n",
    "    finally:\n",
    "        pass    #   Siempre se va ejecutar\n",
    "```"
   ]
  },
  {
   "cell_type": "code",
   "execution_count": 50,
   "metadata": {},
   "outputs": [
    {
     "ename": "TypeError",
     "evalue": "unsupported operand type(s) for /: 'str' and 'int'",
     "output_type": "error",
     "traceback": [
      "\u001b[1;31m---------------------------------------------------------------------------\u001b[0m",
      "\u001b[1;31mTypeError\u001b[0m                                 Traceback (most recent call last)",
      "Cell \u001b[1;32mIn[50], line 5\u001b[0m\n\u001b[0;32m      2\u001b[0m \u001b[39mdef\u001b[39;00m \u001b[39mdivision\u001b[39m(number_one, number_two):\n\u001b[0;32m      3\u001b[0m     \u001b[39mreturn\u001b[39;00m number_one\u001b[39m/\u001b[39mnumber_two\n\u001b[1;32m----> 5\u001b[0m \u001b[39mprint\u001b[39m(division(\u001b[39m'\u001b[39;49m\u001b[39m10\u001b[39;49m\u001b[39m'\u001b[39;49m, \u001b[39m20\u001b[39;49m)) \u001b[39m# Lanzará la excepción de tipo TypeError\u001b[39;00m\n",
      "Cell \u001b[1;32mIn[50], line 3\u001b[0m, in \u001b[0;36mdivision\u001b[1;34m(number_one, number_two)\u001b[0m\n\u001b[0;32m      2\u001b[0m \u001b[39mdef\u001b[39;00m \u001b[39mdivision\u001b[39m(number_one, number_two):\n\u001b[1;32m----> 3\u001b[0m     \u001b[39mreturn\u001b[39;00m number_one\u001b[39m/\u001b[39;49mnumber_two\n",
      "\u001b[1;31mTypeError\u001b[0m: unsupported operand type(s) for /: 'str' and 'int'"
     ]
    }
   ],
   "source": [
    "#   Función simple de división\n",
    "def division(number_one, number_two):\n",
    "    return number_one/number_two\n",
    "\n",
    "print(division('10', 20)) # Lanzará la excepción de tipo TypeError"
   ]
  },
  {
   "cell_type": "markdown",
   "metadata": {},
   "source": [
    "Podemos manejar los errores con Try Except de forma específica.\n",
    "```python\n",
    "    try:\n",
    "        pass\n",
    "    except TypeError as error:\n",
    "        pass\n",
    "```"
   ]
  },
  {
   "cell_type": "code",
   "execution_count": 51,
   "metadata": {},
   "outputs": [
    {
     "name": "stdout",
     "output_type": "stream",
     "text": [
      "Lo sentimos, no fue posible completar la operación.\n",
      "Error de tipo <class 'TypeError'>\n",
      "Finalizando el programa.\n"
     ]
    }
   ],
   "source": [
    "try:\n",
    "    result = division('10', 20)\n",
    "    print(result)\n",
    "except TypeError as err:\n",
    "    print(\"Lo sentimos, no fue posible completar la operación.\")\n",
    "    print(\"Error de tipo\", type(err))\n",
    "finally:\n",
    "    print(\"Finalizando el programa.\")"
   ]
  },
  {
   "cell_type": "code",
   "execution_count": 52,
   "metadata": {},
   "outputs": [
    {
     "name": "stdout",
     "output_type": "stream",
     "text": [
      "Lo sentimos, no es posible dividir entre 0.\n",
      "Error de tipo <class 'ZeroDivisionError'>\n",
      "Finalizando el programa.\n"
     ]
    }
   ],
   "source": [
    "try:\n",
    "    result = division(10, 0)\n",
    "    print(result)\n",
    "except ZeroDivisionError as err:\n",
    "    print(\"Lo sentimos, no es posible dividir entre 0.\")\n",
    "    print(\"Error de tipo\", type(err))\n",
    "finally:\n",
    "    print(\"Finalizando el programa.\")"
   ]
  },
  {
   "cell_type": "markdown",
   "metadata": {},
   "source": [
    "Podemos manejar los errores con Try Except de forma general. (Exception)\n",
    "```python\n",
    "    try:\n",
    "        pass\n",
    "    except Exception as error:\n",
    "        pass\n",
    "```"
   ]
  },
  {
   "cell_type": "code",
   "execution_count": 53,
   "metadata": {},
   "outputs": [
    {
     "name": "stdout",
     "output_type": "stream",
     "text": [
      "Lo sentimos, no fue posible completar la operación.\n",
      "Error de tipo <class 'ZeroDivisionError'>\n",
      "Finalizando el programa.\n"
     ]
    }
   ],
   "source": [
    "try:\n",
    "    result = division(10, 0)\n",
    "    print(result)\n",
    "except  Exception as err:\n",
    "    print(\"Lo sentimos, no fue posible completar la operación.\")\n",
    "    print(\"Error de tipo\", type(err))\n",
    "finally:\n",
    "    print(\"Finalizando el programa.\")"
   ]
  },
  {
   "cell_type": "code",
   "execution_count": 26,
   "metadata": {},
   "outputs": [
    {
     "name": "stdout",
     "output_type": "stream",
     "text": [
      "No se encuentra el archivo.\n",
      "Error de tipo: <class 'FileNotFoundError'>\n",
      "Finalizando el programa.\n"
     ]
    }
   ],
   "source": [
    "#   Otros tipos de errores.\n",
    "try:\n",
    "    open(\"file.txt\")\n",
    "except FileNotFoundError as err:\n",
    "    print(\"No se encuentra el archivo.\")\n",
    "    print(\"Error de tipo:\", type(err))\n",
    "finally:\n",
    "    print(\"Finalizando el programa.\")"
   ]
  },
  {
   "cell_type": "markdown",
   "metadata": {},
   "source": [
    "###   **CREANDO EXCEPCIONES**\n",
    "Podemos crear nuestra propia Exceptión heredando de la clase Exception\n",
    "```python\n",
    "    class MyRandomException(Exception):\n",
    "        def __init__(self, message):\n",
    "            super().__init__(message)\n",
    "    \n",
    "    raise MyRandomException(\"Mi nueva excepción\")\n",
    "```"
   ]
  },
  {
   "cell_type": "code",
   "execution_count": 55,
   "metadata": {},
   "outputs": [
    {
     "ename": "MyRandomException",
     "evalue": "Lo sentimos no pudimos continuar con la ejecución",
     "output_type": "error",
     "traceback": [
      "\u001b[1;31m---------------------------------------------------------------------------\u001b[0m",
      "\u001b[1;31mMyRandomException\u001b[0m                         Traceback (most recent call last)",
      "Cell \u001b[1;32mIn[55], line 6\u001b[0m\n\u001b[0;32m      2\u001b[0m     \u001b[39mdef\u001b[39;00m \u001b[39m__init__\u001b[39m(\u001b[39mself\u001b[39m, message):\n\u001b[0;32m      3\u001b[0m         \u001b[39msuper\u001b[39m()\u001b[39m.\u001b[39m\u001b[39m__init__\u001b[39m(message)\n\u001b[1;32m----> 6\u001b[0m \u001b[39mraise\u001b[39;00m MyRandomException(\u001b[39m\"\u001b[39m\u001b[39mLo sentimos no pudimos continuar con la ejecución\u001b[39m\u001b[39m\"\u001b[39m)    \u001b[39m#   Lanzará el error de tipo MyRandomException\u001b[39;00m\n",
      "\u001b[1;31mMyRandomException\u001b[0m: Lo sentimos no pudimos continuar con la ejecución"
     ]
    }
   ],
   "source": [
    "class MyRandomException(Exception):\n",
    "    def __init__(self, message):\n",
    "        super().__init__(message)\n",
    "\n",
    "\n",
    "raise MyRandomException(\"Lo sentimos no pudimos continuar con la ejecución\")    #   Lanzará el error de tipo MyRandomException"
   ]
  },
  {
   "cell_type": "markdown",
   "metadata": {},
   "source": [
    "##   **TRACEBACK**\n",
    "El TraceBack es una herramienta que realiza un seguimiento a toda la ejecución hasta llegar al error.\n",
    "Se muestra sólo cuando no lo manejamos con el try except, aunque podemos importar la librería traceback para mostrarlo.\n",
    "\n",
    "Su sintaxis es la siguiente:\n",
    "```python\n",
    "    import traceback\n",
    "    try:\n",
    "        raise MyRandomException('Error adrede')\n",
    "    except MyRandomException as error:\n",
    "        trace = traceback.format.exc()\n",
    "        print(trace)\n",
    "        print(error)\n",
    "```"
   ]
  },
  {
   "cell_type": "code",
   "execution_count": 56,
   "metadata": {},
   "outputs": [],
   "source": [
    "import traceback"
   ]
  },
  {
   "cell_type": "code",
   "execution_count": 58,
   "metadata": {},
   "outputs": [
    {
     "name": "stdout",
     "output_type": "stream",
     "text": [
      "Traceback (most recent call last):\n",
      "  File \"C:\\Users\\dafer\\AppData\\Local\\Temp\\ipykernel_22420\\1469327834.py\", line 11, in <module>\n",
      "    a_example()\n",
      "  File \"C:\\Users\\dafer\\AppData\\Local\\Temp\\ipykernel_22420\\1469327834.py\", line 2, in a_example\n",
      "    b_example()\n",
      "  File \"C:\\Users\\dafer\\AppData\\Local\\Temp\\ipykernel_22420\\1469327834.py\", line 5, in b_example\n",
      "    c_example()\n",
      "  File \"C:\\Users\\dafer\\AppData\\Local\\Temp\\ipykernel_22420\\1469327834.py\", line 8, in c_example\n",
      "    raise MyRandomException(\"Error adrede\")\n",
      "MyRandomException: Error adrede\n",
      "\n",
      "Error adrede\n"
     ]
    }
   ],
   "source": [
    "def a_example():\n",
    "    b_example()\n",
    "\n",
    "def b_example():\n",
    "    c_example()\n",
    "\n",
    "def c_example():\n",
    "    raise MyRandomException(\"Error adrede\")\n",
    "\n",
    "try:\n",
    "    a_example()\n",
    "except MyRandomException as error:\n",
    "    trace = traceback.format_exc()\n",
    "    print(trace)\n",
    "    print(error)"
   ]
  },
  {
   "cell_type": "markdown",
   "metadata": {},
   "source": [
    "##  **MÓDULO LOGGING**\n",
    "Deja de usar prints, no es profesional.\n",
    "\n",
    "El módulo logging es una herramienta esencial para el desarrollo de aplicaciones en Python, ya que permite crear y registrar mensajes de registro que pueden ser utilizados para monitorear el comportamiento de una aplicación y detectar problemas o errores de manera efectiva.\n",
    "\n",
    "Algunos de los mensajes de registro con sus niveles:\n",
    "* NOTSET = 0\n",
    "* DEBUG = 10\n",
    "* INFO = 20\n",
    "* WARNING = 30\n",
    "* ERROR = 40\n",
    "* CRITICAL = 50\n",
    "\n",
    "Su sintaxis es la siguiente:\n",
    "\n",
    "```python\n",
    "    import logging\n",
    "\n",
    "    logging.basicConfig(\n",
    "        level=30\n",
    "    )\n",
    "\n",
    "    logging.info(\"Informative message\")\n",
    "    logging.debug(\"Debug message\")\n",
    "    logging.warning(\"Warning message\")\n",
    "    logging.error(\"Error message\")\n",
    "    logging.critical(\"¡Critical message!\")\n",
    "```"
   ]
  },
  {
   "cell_type": "code",
   "execution_count": null,
   "metadata": {},
   "outputs": [],
   "source": [
    "#   ¡NO HAGAS ESTO!\n",
    "def my_super_function(*args, **kwargs):\n",
    "    print(\">>>  Entramos a la función.\")\n",
    "    resultado = sum(args)\n",
    "    print(\">>>  Sumamos y retornamos el resultado.\")\n",
    "    return resultado"
   ]
  },
  {
   "cell_type": "code",
   "execution_count": 1,
   "metadata": {},
   "outputs": [],
   "source": [
    "import logging\n",
    "\n",
    "#   Configurar a partir de que nivel se mostrarán los mensajes.\n",
    "logging.basicConfig(\n",
    "    level=30,   #   Establecemos el nivel en la cual se empiezan a lanzar logs.\n",
    ")"
   ]
  },
  {
   "cell_type": "code",
   "execution_count": 2,
   "metadata": {},
   "outputs": [
    {
     "name": "stderr",
     "output_type": "stream",
     "text": [
      "WARNING:root:Mensaje de advertencia\n",
      "ERROR:root:Mensaje de error\n",
      "CRITICAL:root:¡Mensaje crítico!\n"
     ]
    }
   ],
   "source": [
    "logging.info(\"Mensaje informativo\")\n",
    "logging.debug(\"Este es un mensaje de debug\")\n",
    "logging.warning(\"Mensaje de advertencia\")\n",
    "logging.error(\"Mensaje de error\")\n",
    "logging.critical(\"¡Mensaje crítico!\")"
   ]
  },
  {
   "cell_type": "code",
   "execution_count": 6,
   "metadata": {},
   "outputs": [
    {
     "name": "stderr",
     "output_type": "stream",
     "text": [
      "ERROR:root:Error al dividir entre 0.\n"
     ]
    }
   ],
   "source": [
    "try:\n",
    "    print(10/0)\n",
    "except ZeroDivisionError as error:\n",
    "    logging.error(\"Error al dividir entre 0.\")"
   ]
  },
  {
   "cell_type": "markdown",
   "metadata": {},
   "source": [
    "###  **ARCHIVOS LOGS**\n",
    "También en vez de imprimir en consola podemos guardar los logs en un archivo para hacer seguimiento.\n",
    "Pero debemos configurar.\n",
    "```python\n",
    "    logging.basicConfig(\n",
    "        level=30,   #   Establecemos el nivel\n",
    "        filename='errors.log', # Le decimos que cree registre en el archivo.\n",
    "        format='%(asctime)s:%(levelname)s:%(message)s' # Establecemos el formato a registrar.\n",
    "    )\n",
    "```"
   ]
  },
  {
   "cell_type": "code",
   "execution_count": 1,
   "metadata": {},
   "outputs": [],
   "source": [
    "import logging\n",
    "import traceback    #También guardaremos lo de Traceback."
   ]
  },
  {
   "cell_type": "code",
   "execution_count": 2,
   "metadata": {},
   "outputs": [],
   "source": [
    "#   Configuración\n",
    "logging.basicConfig(\n",
    "    level=30,   #   Sólo mostrar a partir del nivel 30.\n",
    "    filename='errors.log', # Registralo en el archivo errors.log\n",
    "    format='%(asctime)s:%(levelname)s:%(message)s' #  Con el formato: fecha/hora: nombre_nivel: mensaje.\n",
    ")"
   ]
  },
  {
   "cell_type": "code",
   "execution_count": 3,
   "metadata": {},
   "outputs": [],
   "source": [
    "#   Podemos agregar más información junto con Traceback para errores.\n",
    "try:\n",
    "    10 / 0\n",
    "except ZeroDivisionError as error:\n",
    "    trace_info = traceback.format_exc()\n",
    "    error_info = {\n",
    "        'error': error,\n",
    "        'traceback': trace_info\n",
    "    }\n",
    "    logging.error(error_info)"
   ]
  },
  {
   "cell_type": "code",
   "execution_count": 4,
   "metadata": {},
   "outputs": [],
   "source": [
    "#   Otro ejemplo de otro tipo de error (FileNotFoundError)\n",
    "try:\n",
    "    open('file.txt')\n",
    "except Exception as error:\n",
    "    trace_info = traceback.format_exc()\n",
    "    error_info = {\n",
    "        'error': error,\n",
    "        'traceback': trace_info\n",
    "    }\n",
    "    logging.error(error_info)"
   ]
  },
  {
   "cell_type": "markdown",
   "metadata": {},
   "source": [
    "## **CONTEXT MANAGER**\n",
    "Hay otra forma de trabajar con estos bloques, a traves de contextos\n",
    "Es decir, todo lo que esté dentro del bloque, estará respaldado con nuestro CONTEXTMANAGER.\n",
    "\n",
    "Es un decorador que se utiliza en Python para crear un contexto de ejecución para una sección de código. El contexto de ejecución se refiere a un bloque de código que se ejecuta antes y después de que se ejecute un bloque de código específico.\n",
    "\n",
    "Su sintaxis es la siguiente:\n",
    "```python\n",
    "    from contextlib import contextmanager\n",
    "\n",
    "    @contextmanager\n",
    "    def file_handler(filename):\n",
    "        file = open(filename, 'w')\n",
    "        yield file\n",
    "        file.close()\n",
    "\n",
    "    with file_handler('archivo.txt') as file:\n",
    "        file.write('Hola, mundo!')\n",
    "```\n",
    "En este ejemplo, el decorador contextmanager se utiliza para crear un objeto file_handler que abre un archivo en modo de escritura. El objeto se utiliza en un bloque with para escribir un mensaje en el archivo. Al final del bloque with, se cierra automáticamente el archivo."
   ]
  },
  {
   "cell_type": "code",
   "execution_count": 5,
   "metadata": {},
   "outputs": [],
   "source": [
    "import logging\n",
    "import traceback\n",
    "from contextlib import contextmanager\n",
    "\n",
    "logging.basicConfig(\n",
    "    level=30,\n",
    "    filename='errors.log',\n",
    "    format='%(asctime)s:%(levelname)s:%(message)s'\n",
    ")"
   ]
  },
  {
   "cell_type": "code",
   "execution_count": 6,
   "metadata": {},
   "outputs": [],
   "source": [
    "@contextmanager\n",
    "def example_context():\n",
    "    print('>>> Esto se ejecuta antes de un bloque.')\n",
    "    yield\n",
    "    print('>>> Esto se ejecuta después de un bloque.')"
   ]
  },
  {
   "cell_type": "code",
   "execution_count": 8,
   "metadata": {},
   "outputs": [
    {
     "name": "stdout",
     "output_type": "stream",
     "text": [
      ">>> Esto se ejecuta antes de un bloque.\n",
      "0.5\n",
      ">>> Esto se ejecuta después de un bloque.\n"
     ]
    }
   ],
   "source": [
    "with example_context():\n",
    "    result = 10/20\n",
    "    print(result)"
   ]
  },
  {
   "cell_type": "markdown",
   "metadata": {},
   "source": [
    "Podemos usarlo para registrar todos los logs de todas las funciones que estén dentro del with() evitando repetir código try except."
   ]
  },
  {
   "cell_type": "code",
   "execution_count": 12,
   "metadata": {},
   "outputs": [],
   "source": [
    "#   Creamos un sólo try except que registre los errores.\n",
    "@contextmanager\n",
    "def register_error_log():\n",
    "    try:\n",
    "        yield\n",
    "    except Exception as error:\n",
    "        trace_info = traceback.format_exc()\n",
    "        error_info = {\n",
    "            'error': error,\n",
    "            'traceback': trace_info\n",
    "        }\n",
    "        logging.error(error_info)"
   ]
  },
  {
   "cell_type": "code",
   "execution_count": 15,
   "metadata": {},
   "outputs": [],
   "source": [
    "with register_error_log():  #Así todo error que ocurra dentro del with, se registrará en el arhcivo erros.log\n",
    "    \"10\"/0\n",
    "    10/0"
   ]
  },
  {
   "cell_type": "markdown",
   "metadata": {},
   "source": [
    "## **DOCSTRING**\n",
    "Son cadenas de texto que se utilizan para documentar el propósito, uso y comportamiento de un módulo, clase, función o método en Python. Los docstrings se colocan al principio de la definición del objeto y se escriben entre triple comillas (\"\"\").\n",
    "\n",
    "Los docstrings son una forma importante de documentación en Python, ya que proporcionan información útil sobre el objeto y su uso sin necesidad de revisar el código fuente. Los docstrings también se utilizan para generar documentación automáticamente a partir del código fuente, utilizando herramientas como Sphinx.\n",
    "\n",
    "Existen diferentes convenciones para escribir docstrings en Python, como la convención de Google, la convención de reStructuredText y la convención de NumPy. Sin embargo, en general, los docstrings suelen contener la siguiente información:\n",
    "\n",
    "*   Una descripción breve y concisa del propósito del objeto.\n",
    "*   Una lista de los parámetros de entrada y su tipo, si corresponde.\n",
    "*   Una descripción de la salida y su tipo, si corresponde.\n",
    "*   Una descripción del comportamiento del objeto, incluyendo excepciones que puedan generarse.\n",
    "*   Ejemplos de uso del objeto, para ilustrar su funcionamiento."
   ]
  },
  {
   "cell_type": "code",
   "execution_count": 18,
   "metadata": {},
   "outputs": [],
   "source": [
    "import doctest\n",
    "\n",
    "#   Google Docstring.\n",
    "def sumar(a, b):\n",
    "    \"\"\"\n",
    "    Suma dos números enteros.\n",
    "\n",
    "    Args:\n",
    "        a (int): Primer número a sumar.\n",
    "        b (int): Segundo número a sumar.\n",
    "\n",
    "    Returns:\n",
    "        int: La suma de a y b.\n",
    "    \n",
    "    Usage example:\n",
    "    >>> sumar(10, 5)\n",
    "    15\n",
    "\n",
    "    >>> sumar(5, 5)\n",
    "    10\n",
    "    \"\"\"\n",
    "    return a + b\n",
    "\n",
    "doctest.run_docstring_examples(sumar, globals())    #No retorna nada porque todo el test en base al docstring salió bien."
   ]
  },
  {
   "cell_type": "markdown",
   "metadata": {},
   "source": [
    "##  **MÓDULO PDB**\n",
    "Nos sirve para colocar BREAKPOINTS e ir inspeccionando que está pasando en nuestro código.\n",
    "\n",
    "El módulo pdb es una herramienta de depuración interactiva en Python que permite a los desarrolladores examinar el estado de una aplicación en tiempo de ejecución y detectar y corregir errores.\n",
    "\n",
    "El módulo pdb proporciona una serie de comandos que se pueden utilizar para detener la ejecución de una aplicación en un punto específico y examinar el estado actual de las variables y los objetos. Estos comandos se utilizan en un modo interactivo similar a la consola de Python, lo que permite una depuración interactiva del código.\n",
    "\n",
    "Algunos de los comandos más comunes que se utilizan con pdb son:\n",
    "\n",
    "*   **n:** Ejecuta la siguiente línea de código.\n",
    "*   **s:** Ejecuta la siguiente línea de código, pero detiene la ejecución en la primera línea de código de una función.\n",
    "*   **c:** Continúa la ejecución hasta el próximo punto de interrupción o hasta que finalice la aplicación.\n",
    "*   **l:** Muestra la línea actual y las líneas circundantes del código.\n",
    "*   **p:** Imprime el valor de una variable o expresión.\n",
    "*   **h:** Muestra una lista de comandos de ayuda.\n",
    "\n",
    "Su sintaxis es:\n",
    "```python\n",
    "    import pdb\n",
    "\n",
    "    def sumar_lista(lista):\n",
    "        suma = 0\n",
    "        for elemento in lista:\n",
    "            pdb.set_trace() #Agregar un punto de interrupción.\n",
    "            suma += elemento\n",
    "        return suma\n",
    "\n",
    "    lista = [1, 2, 3, 4, 5]\n",
    "    print(sumar_lista(lista))\n",
    "```\n",
    "En este ejemplo, se utiliza **pdb.set_trace()** para agregar un punto de interrupción en el ciclo for. Al ejecutar el programa, la ejecución se detendrá en el punto de interrupción y se iniciará el modo interactivo de depuración. Desde allí, se pueden utilizar los comandos de pdb para examinar el valor de elemento y suma en cada iteración del ciclo y detectar cualquier error en el código."
   ]
  },
  {
   "cell_type": "code",
   "execution_count": 19,
   "metadata": {},
   "outputs": [],
   "source": [
    "import pdb  #   Se usa directamente desde el terminal, no desde Notebooks.\n",
    "\n",
    "def average(numbers):\n",
    "    sum = 0\n",
    "    for num in numbers:\n",
    "        sum += num\n",
    "    return round(sum/len(numbers), 2)\n",
    "\n",
    "def set_score(scores):\n",
    "    breakpoint()    # Establecemos un breakpoint o punto de interrupción.\n",
    "    result = average(scores)\n",
    "    match result:\n",
    "        case 10:\n",
    "            print('Felicidades aprobaste con 10 en la materia.')\n",
    "        case 8 | 9:\n",
    "            print('Felicidades aprobaste la materia.')\n",
    "        case 7:\n",
    "            print('Aprobaste con 7 en la materia.')\n",
    "        case _:\n",
    "            print('Lo sentimos debes volver a cursar la materia')"
   ]
  },
  {
   "cell_type": "code",
   "execution_count": 20,
   "metadata": {},
   "outputs": [
    {
     "name": "stdout",
     "output_type": "stream",
     "text": [
      "Lo sentimos debes volver a cursar la materia\n"
     ]
    }
   ],
   "source": [
    "numbers = [5, 10, 6, 8, 10, 9, 9]\n",
    "set_score(numbers)"
   ]
  },
  {
   "cell_type": "markdown",
   "metadata": {},
   "source": [
    "##  **TYPE HINTS**\n",
    "Tiene como objetivo que el código sea mucho más claro, es sencillo añadirlos, definimos tipos para las variables o funciones, ya sea para los parametros o argumentos que vamos a retornar.\n",
    "\n",
    "Son una forma de especificar el tipo de datos esperado para los parámetros de una función y el tipo de datos que la función devuelve. Los type hints permiten a los desarrolladores indicar explícitamente el tipo de datos que se espera, lo que puede mejorar la legibilidad y la mantenibilidad del código.\n",
    "\n",
    "```python\n",
    "    integer_var: int = 10\n",
    "    string_var: str = 'An String'\n",
    "    float_var: float = 0,99\n",
    "\n",
    "    def mu_function(x: int, b: int) -> int | float:\n",
    "        return a / b \n",
    "```"
   ]
  },
  {
   "cell_type": "code",
   "execution_count": 26,
   "metadata": {},
   "outputs": [],
   "source": [
    "from typing import List, Optional, Union"
   ]
  },
  {
   "cell_type": "code",
   "execution_count": 27,
   "metadata": {},
   "outputs": [],
   "source": [
    "def average(numbers: List[int]) -> Union[int, float]:\n",
    "    \"\"\"Retorna el promedio de una lista de enteros.\n",
    "\n",
    "    Args:\n",
    "        numbers (List[int]): Lista de números\n",
    "\n",
    "    Returns:\n",
    "        Union[int, float]: La suma de numbers dividido entre su tamaño.\n",
    "    \n",
    "    Usage example:\n",
    "    >>> average([1, 2, 3])\n",
    "    2.0\n",
    "    >>> average([4, 5, 6])\n",
    "    5.0\n",
    "    \"\"\"\n",
    "    return sum(numbers) / len(numbers)\n",
    "\n",
    "\n",
    "def add(a: int, b: Optional[int] = 10) -> Union[int, float]:\n",
    "    \"\"\"Retorna la división de dos números enteros.\n",
    "\n",
    "    Args:\n",
    "        a (int): Primer número\n",
    "        b (Optional[int], optional): Segundo número. Por defecto 10.\n",
    "\n",
    "    Returns:\n",
    "        Union[int, float]: El resultado de la división de a entre b, en entero o flotante.\n",
    "    \"\"\"\n",
    "    return a / b"
   ]
  },
  {
   "cell_type": "code",
   "execution_count": 28,
   "metadata": {},
   "outputs": [
    {
     "data": {
      "text/plain": [
       "8.142857142857142"
      ]
     },
     "execution_count": 28,
     "metadata": {},
     "output_type": "execute_result"
    }
   ],
   "source": [
    "numbers: List[int] = [5, 10, 6, 8, 10, 9, 9]\n",
    "average(numbers)"
   ]
  },
  {
   "cell_type": "code",
   "execution_count": 29,
   "metadata": {},
   "outputs": [
    {
     "data": {
      "text/plain": [
       "0.6666666666666666"
      ]
     },
     "execution_count": 29,
     "metadata": {},
     "output_type": "execute_result"
    }
   ],
   "source": [
    "add(10, 15)"
   ]
  }
 ],
 "metadata": {
  "kernelspec": {
   "display_name": "Python 3",
   "language": "python",
   "name": "python3"
  },
  "language_info": {
   "codemirror_mode": {
    "name": "ipython",
    "version": 3
   },
   "file_extension": ".py",
   "mimetype": "text/x-python",
   "name": "python",
   "nbconvert_exporter": "python",
   "pygments_lexer": "ipython3",
   "version": "3.11.2"
  },
  "orig_nbformat": 4
 },
 "nbformat": 4,
 "nbformat_minor": 2
}

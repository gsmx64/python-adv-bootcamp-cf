{
 "cells": [
  {
   "cell_type": "markdown",
   "metadata": {},
   "source": [
    "#   <center>**CRIPTOGRAFÍA**</center>"
   ]
  },
  {
   "cell_type": "markdown",
   "metadata": {},
   "source": [
    "Uno de los pilares del éxito de las aplicaciones modernas es la `seguridad`.  \n",
    "Si no aplicas seguridad, estás destinando la aplicación al fracaso."
   ]
  },
  {
   "cell_type": "markdown",
   "metadata": {},
   "source": [
    "##  **1. ¿POR QUÉ ES IMPORTANTE LA CRIPTOGRAFÍA?**\n",
    "\n",
    "**`CRIPTOS`** = OCULTO  \n",
    "**`GRAFOS`** = ESCRITURA\n",
    "\n",
    "La criptografía es el arte de esconder información.  \n",
    "La criptografía es una disciplina de la seguridad informática que se ocupa del estudio de técnicas y algoritmos para proteger la información y comunicaciones de accesos no autorizados o modificaciones no deseadas. Su objetivo principal es garantizar la confidencialidad, integridad y autenticidad de los datos.\n",
    "\n",
    "Históricamente, la criptografía ha sido utilizada para codificar mensajes y mantener secretos en situaciones militares y diplomáticas. Sin embargo, en la actualidad, es esencial en la protección de datos en sistemas informáticos, redes, transacciones en línea y comunicaciones.  \n",
    "\n",
    "***La criptografía es la antigua disciplina de hacer seguras situaciones problemáticas que tienen actores maliciosos.***  \n",
    "***David Wong - Real World Crypthography***\n",
    "\n",
    "Actualmente toda la seguridad digital y autenticidad de nuestras operaciones depende completamente de ella."
   ]
  },
  {
   "cell_type": "markdown",
   "metadata": {},
   "source": [
    "##  **2.    ¿QUÉ ES LA ALEATORIEDAD?**\n",
    "\n",
    "La aleatoriedad es un concepto fundamental en matemáticas, estadísticas y ciencias de la computación que se refiere a la falta de patrones o predictibilidad en un conjunto de datos o eventos. Se relaciona con la idea de imprevisibilidad y ausencia de un orden preestablecido en una secuencia de valores o resultados.\n",
    "\n",
    "En un contexto más general, `se puede decir que algo es aleatorio cuando no puede predecirse con certeza cuál será el próximo valor`, resultado o evento en una serie. Los eventos o datos aleatorios son aquellos que se producen de manera impredecible, sin seguir un patrón discernible o regla establecida."
   ]
  },
  {
   "cell_type": "markdown",
   "metadata": {},
   "source": [
    "##  **3.    ¿QUÉ ES LA AUTENTICIDAD?**\n",
    "\n",
    "La autenticidad `se refiere a la propiedad de los datos o la identidad de un usuario o sistema de ser genuinos, legítimos y verificables`. En otras palabras, se trata de asegurar que la información o acciones provengan de una fuente confiable y no hayan sido alteradas o falsificadas.\n",
    "\n",
    "La autenticidad es un aspecto crucial en la seguridad informática y la protección de datos. Asegurarse de que los datos y las acciones provengan de una fuente auténtica es esencial para prevenir ataques de suplantación de identidad (como el phishing) y garantizar que los datos no sean manipulados por terceros no autorizados.\n",
    "\n",
    "Para lograr la autenticidad en programación, se utilizan diversas técnicas y mecanismos, como:\n",
    "\n",
    "- **Autenticación de usuarios**: Los sistemas requieren que los usuarios se identifiquen mediante credenciales únicas, como nombres de usuario y contraseñas, certificados digitales o autenticación biométrica.\n",
    "\n",
    "- **Firmas digitales**: Se utilizan para garantizar que un archivo o mensaje no haya sido alterado y provenga de una fuente conocida. Las firmas digitales son creadas utilizando claves criptográficas y permiten verificar la integridad y autenticidad del contenido.\n",
    "\n",
    "- **Tokens de autenticación**: Estos códigos o claves temporales se utilizan para confirmar la identidad de un usuario o dispositivo en ciertas transacciones o acciones específicas.\n",
    "\n",
    "- **Protocolos de seguridad**: Se implementan protocolos de seguridad como HTTPS (Protocolo seguro de transferencia de hipertexto) para asegurar la autenticidad de las comunicaciones entre un cliente y un servidor web.\n",
    "\n",
    "- **Control de acceso**: Limitar el acceso a recursos y funciones específicas a usuarios autorizados ayuda a garantizar la autenticidad y la protección de datos sensibles."
   ]
  },
  {
   "cell_type": "markdown",
   "metadata": {},
   "source": [
    "##  **4.    ¿QUÉ ES LA CONFIDENCIALIDAD?**\n",
    "\n",
    "Ocultar información de entidades que no tienen derecho a saberla.\n",
    "\n",
    "**CÓMO SABER QUE ALGO QUE SE RECIBIÓ NO FUE MODIFICADO?**  \n",
    "**Integridad**  \n",
    "Es saber que la información llegó exactamente como se mandó, la forma de saber es con un sello único."
   ]
  },
  {
   "cell_type": "markdown",
   "metadata": {},
   "source": [
    "##  **4. PRIMITIVAS CRIPTOGRÁFICAS**"
   ]
  },
  {
   "cell_type": "markdown",
   "metadata": {},
   "source": [
    "### **4.1. FUNCIONES HASH**\n",
    "- La navaja suiza de la criptografía.\n",
    "- Funciones de un sólo sentido.\n",
    "- Normalmente devuelven salidas de tamaño fijo para cualquier entrada.\n",
    "- Se usan para construir protocolos y primitivas más complejas.\n",
    "- Son rápidas y mientras más rápidas, mejor.\n",
    "\n",
    "Una función hash es un algoritmo matemático que toma una entrada (o conjunto de datos) y genera una cadena de caracteres alfanuméricos de longitud fija, conocida como el valor hash o resumen.\n",
    "\n",
    "La función hash tiene las siguientes características:\n",
    "\n",
    "- Determinista: Siempre producirá el mismo valor hash para una misma entrada dada. Esto garantiza la consistencia y previsibilidad en el cálculo de los valores hash.\n",
    "\n",
    "- Eficiente: Debe ser rápida de calcular, incluso para grandes conjuntos de datos.\n",
    "\n",
    "- Resumen único: Aunque dos entradas diferentes podrían producir el mismo valor hash (colisión), la probabilidad de esto debe ser extremadamente baja, especialmente si se utiliza una función hash criptográficamente segura.\n",
    "\n",
    "- No invertible: No es posible obtener la entrada original a partir del valor hash (es decir, no puede revertirse), lo que proporciona un grado de seguridad y protección de la información.\n",
    "\n",
    "Las funciones hash tienen diversas aplicaciones en la informática:\n",
    "\n",
    "- Integridad de datos: Se utilizan para verificar si los datos han sido modificados o corrompidos. Comparando el valor hash calculado con el valor hash original, se puede determinar si los datos se mantienen intactos.\n",
    "\n",
    "- Almacenamiento y búsqueda de datos: Las tablas hash se utilizan para indexar y acelerar la búsqueda de datos en estructuras de datos como tablas y diccionarios.\n",
    "\n",
    "- Criptografía: En criptografía, las funciones hash se utilizan para generar resúmenes únicos de mensajes o archivos, así como para almacenar contraseñas de manera segura en las bases de datos.\n",
    "\n",
    "- Evitar duplicados: Las funciones hash se pueden usar para identificar duplicados o colisiones en grandes conjuntos de datos.\n",
    "\n",
    "Es importante destacar que para ciertos casos, especialmente en aplicaciones de seguridad, es esencial utilizar funciones hash criptográficamente seguras y resistentes a ataques criptoanalíticos. Algunos ejemplos de funciones hash ampliamente utilizadas y seguras incluyen SHA-256 (Secure Hash Algorithm 256 bits) y MD5 (Message Digest Algorithm 5)."
   ]
  },
  {
   "cell_type": "markdown",
   "metadata": {},
   "source": [
    "####    **4.1.1 SHA3-256 (Secure Hash Algorithm 3)**\n",
    "\n",
    "SHA3-256 es un algoritmo de hash criptográfico que produce una cadena de 256 bits. SHA3-256 es una función de hash segura, lo que significa que es muy difícil encontrar dos entradas diferentes que produzcan el mismo hash. SHA3-256 se utiliza en una variedad de aplicaciones, incluyendo la firma digital, la comprobación de integridad de datos y el cifrado.\n",
    "\n",
    "SHA3-256 fue desarrollado por el Instituto Nacional de Estándares y Tecnología (NIST) como parte del concurso SHA-3. El concurso SHA-3 se celebró para encontrar un reemplazo para los algoritmos SHA-1 y SHA-2, que se consideran vulnerables a los ataques de fuerza bruta. SHA3-256 fue seleccionado como el ganador del concurso SHA-3 en 2015.\n",
    "\n",
    "SHA3-256 es una función de hash segura y eficiente. Se utiliza en una variedad de aplicaciones y se considera una de las funciones de hash más seguras disponibles."
   ]
  },
  {
   "cell_type": "markdown",
   "metadata": {},
   "source": [
    "**MÓDULO HASHLIB**\n",
    "```python\n",
    "    import hashlib\n",
    "```\n",
    "La librería hashlib en Python proporciona funcionalidades para trabajar con funciones hash criptográficamente seguras. Permite calcular valores hash de datos, como mensajes o archivos, utilizando algoritmos de hash como SHA-256, SHA-512, MD5, entre otros. Esta librería es parte de la biblioteca estándar de Python, por lo que no es necesario instalarla por separado.\n",
    "\n",
    "Las principales funciones y usos de la librería hashlib en Python son:\n",
    "\n",
    "- **Cálculo de hash**: Permite calcular el valor hash de una cadena o secuencia de bytes utilizando diferentes algoritmos criptográficos. Esto es útil para garantizar la integridad de datos, verificar si los datos han sido alterados o generar identificadores únicos.\n",
    "\n",
    "- **Almacenamiento seguro de contraseñas**: La librería hashlib es utilizada para almacenar contraseñas de forma segura en bases de datos. En lugar de almacenar las contraseñas en texto plano, se almacena el valor hash de la contraseña, lo que proporciona un nivel adicional de seguridad.\n",
    "\n",
    "- **Generación de claves criptográficas**: En algunos casos, se puede utilizar hashlib para generar claves criptográficas a partir de una contraseña o frase secreta utilizando funciones de derivación de claves, como PBKDF2 (Password-Based Key Derivation Function 2).\n",
    "\n",
    "- **Verificación de integridad de archivos**: Se pueden calcular los valores hash de archivos grandes y compararlos con valores hash previamente conocidos para verificar si el archivo se ha descargado o copiado correctamente y si no ha sido modificado.\n",
    "\n",
    "- **Comprobación de duplicados**: La librería hashlib se utiliza para verificar si dos archivos o mensajes son idénticos al calcular sus valores hash y compararlos.\n",
    "\n",
    "\n",
    "La función **`update()`** se utiliza para agregar datos adicionales a la operación de hash en curso. Puedes llamar a esta función múltiples veces para ir actualizando el hash con más datos antes de obtener el resultado final. Es útil cuando deseas calcular el valor hash de una cadena que se genera en partes o cuando tienes datos grandes que no se pueden cargar completamente en memoria de una vez."
   ]
  },
  {
   "cell_type": "code",
   "execution_count": 56,
   "metadata": {},
   "outputs": [
    {
     "name": "stdout",
     "output_type": "stream",
     "text": [
      "ca8f60b2cc7f05837d98b208b57fb6481553fc5f1219d59618fd025002a66f5c\n"
     ]
    }
   ],
   "source": [
    "import hashlib\n",
    "\n",
    "h = hashlib.sha256()\n",
    "h.update(b\"Hola \")\n",
    "h.update(b\"mundo\")\n",
    "print(h.hexdigest())"
   ]
  },
  {
   "cell_type": "markdown",
   "metadata": {},
   "source": [
    "La función **`digest()`** devuelve el valor hash final como una secuencia de bytes. El valor hash resultante es una cadena de bytes que representa el resumen criptográfico del contenido que se ha alimentado a la función hash."
   ]
  },
  {
   "cell_type": "code",
   "execution_count": 61,
   "metadata": {},
   "outputs": [
    {
     "name": "stdout",
     "output_type": "stream",
     "text": [
      "b'\\xcc\\xc0-\\xa4\\x1d_\\xc7\\xe7\\xa0\\xd6\\xfa:\\xe8{\\x90\\xd3T\\x82\\x0835\\x81\\xecyq\\x88\\x0c.\\xfc\\xe3zu'\n"
     ]
    }
   ],
   "source": [
    "import hashlib\n",
    "\n",
    "mensaje = b\"Hola como estas\"\n",
    "h = hashlib.sha256(mensaje)\n",
    "valor_hash = h.digest()\n",
    "print(valor_hash)"
   ]
  },
  {
   "cell_type": "markdown",
   "metadata": {},
   "source": [
    "La función **`hexdigest()`** devuelve el valor hash final como una cadena de caracteres en formato hexadecimal. El valor hash en formato hexadecimal es más legible para los humanos que la secuencia de bytes devuelta por digest(). Es comúnmente utilizado cuando se necesita representar el valor hash como una cadena."
   ]
  },
  {
   "cell_type": "code",
   "execution_count": 62,
   "metadata": {},
   "outputs": [
    {
     "name": "stdout",
     "output_type": "stream",
     "text": [
      "ccc02da41d5fc7e7a0d6fa3ae87b90d3548208333581ec7971880c2efce37a75\n"
     ]
    }
   ],
   "source": [
    "import hashlib\n",
    "\n",
    "mensaje = b\"Hola como estas\"\n",
    "h = hashlib.sha256(mensaje)\n",
    "valor_hash_hex = h.hexdigest()\n",
    "print(valor_hash_hex)"
   ]
  },
  {
   "cell_type": "markdown",
   "metadata": {},
   "source": [
    "Aquí hay un ejemplo simple de cómo utilizar hashlib en Python para calcular el valor hash SHA-256 de una cadena:"
   ]
  },
  {
   "cell_type": "code",
   "execution_count": 7,
   "metadata": {},
   "outputs": [
    {
     "name": "stdout",
     "output_type": "stream",
     "text": [
      "Valor hash SHA-256: a49083e98bf17025066cc4b70fce263a1c24aa691f450b150ff919d30eb2fa14\n"
     ]
    }
   ],
   "source": [
    "import hashlib\n",
    "\n",
    "cadena = \"Hola, esto es un ejemplo de hashlib en Python\"\n",
    "hash_sha256 = hashlib.sha256(cadena.encode()).hexdigest()\n",
    "\n",
    "print(\"Valor hash SHA-256:\", hash_sha256)"
   ]
  },
  {
   "cell_type": "markdown",
   "metadata": {},
   "source": [
    "Este es un ejemplo para validar una cadena de contraseña."
   ]
  },
  {
   "cell_type": "code",
   "execution_count": 55,
   "metadata": {},
   "outputs": [
    {
     "data": {
      "text/plain": [
       "True"
      ]
     },
     "execution_count": 55,
     "metadata": {},
     "output_type": "execute_result"
    }
   ],
   "source": [
    "#HASH ALMACENADO DE CONTRASEÑA REAL\n",
    "real_password = b\"mycontrasena\"\n",
    "real_hash = hashlib.sha3_256(real_password)\n",
    "real_hash.hexdigest()\n",
    "\n",
    "#HASH DE CONTRASEÑA ENTRANTE\n",
    "input_password = b\"mycontrasena\"\n",
    "input_hash = hashlib.sha3_256(input_password)\n",
    "\n",
    "#VALIDAR SI LA CONTRASEÑA ES LA AUTENTICA Y NO MODIFICADA\n",
    "input_hash.hexdigest() == real_hash.hexdigest()"
   ]
  },
  {
   "cell_type": "markdown",
   "metadata": {},
   "source": [
    "**MÓDULO SECRETS**\n",
    "```python\n",
    "    import secrets\n",
    "```\n",
    "Es más seguro para generar números aleatorios.  \n",
    "Se encarga de verificar cual es la mejor fuente de aleatoriedad de tu S.O. para usar directamente esa.\n",
    "\n",
    "La librería secrets en Python es una parte importante de la biblioteca estándar y se utiliza para generar y manejar datos sensibles de forma segura, como contraseñas, tokens de acceso, claves criptográficas, entre otros. Esta librería proporciona funciones criptográficamente seguras para generar valores aleatorios y secretos, lo que la hace ideal para aplicaciones que requieren seguridad y protección de información confidencial.\n",
    "\n",
    "Las principales funciones y usos de la librería secrets en Python son:\n",
    "\n",
    "- **Generación de contraseñas seguras**: La función secrets.choice() permite generar contraseñas aleatorias utilizando caracteres seguros, lo que ayuda a evitar contraseñas débiles y predecibles.\n",
    "\n",
    "- **Generación de tokens de acceso**: Se utiliza para generar tokens de acceso o claves de sesión utilizadas en autenticación y autorización seguras en aplicaciones web y servicios de API.\n",
    "\n",
    "- **Generación de claves criptográficas**: La librería secrets puede utilizarse para generar claves criptográficas utilizadas en cifrado y firma digital.\n",
    "\n",
    "- **Cifrados de datos sensibles**: Se utiliza para cifrar y proteger datos sensibles antes de almacenarlos o transmitirlos.\n",
    "\n",
    "- **Protección de información sensible**: La librería secrets es útil para manejar datos confidenciales, como información personal o credenciales, de manera segura durante la ejecución de un programa."
   ]
  },
  {
   "cell_type": "markdown",
   "metadata": {},
   "source": [
    "Utilizamos **`secrets.SystemRandom()`** para crear una instancia de un generador de números aleatorios seguro.  \n",
    "Luego, con randrange(1, 101) generamos un número aleatorio entre 1 y 100 (ambos inclusive)."
   ]
  },
  {
   "cell_type": "code",
   "execution_count": 64,
   "metadata": {},
   "outputs": [
    {
     "name": "stdout",
     "output_type": "stream",
     "text": [
      "Número aleatorio entre 1 y 100: 68\n"
     ]
    }
   ],
   "source": [
    "#   EN LOS S.O. NO EXISTEN LOS NÚMEROS ALEATORIOS REALES\n",
    "import secrets\n",
    "\n",
    "# Ejemplo 1: Generar un número aleatorio entre 1 y 100\n",
    "numero_aleatorio = secrets.SystemRandom().randrange(1, 101)\n",
    "print(\"Número aleatorio entre 1 y 100:\", numero_aleatorio)"
   ]
  },
  {
   "cell_type": "markdown",
   "metadata": {},
   "source": [
    "Con **`secrets.choice()`** seleccionamos una carta aleatoria de una baraja de cartas.  \n",
    "Aquí utilizamos una lista llamada baraja que contiene los valores de las cartas. La función choice() seleccionará una de las cartas de la lista de forma aleatoria."
   ]
  },
  {
   "cell_type": "code",
   "execution_count": 65,
   "metadata": {},
   "outputs": [
    {
     "name": "stdout",
     "output_type": "stream",
     "text": [
      "Carta seleccionada aleatoriamente: 9\n"
     ]
    }
   ],
   "source": [
    "# Ejemplo 2: Escoger una carta aleatoria de una baraja\n",
    "baraja = ['As', '2', '3', '4', '5', '6', '7', '8', '9', '10', 'J', 'Q', 'K']\n",
    "carta_seleccionada = secrets.choice(baraja)\n",
    "print(\"Carta seleccionada aleatoriamente:\", carta_seleccionada)"
   ]
  },
  {
   "cell_type": "markdown",
   "metadata": {},
   "source": [
    "Utilizamos **`secrets.token_hex(16)`** para generar una clave de acceso temporal segura.  \n",
    "La función token_hex() generará una cadena de caracteres aleatoria de longitud 32 (16 bytes en formato hexadecimal). Este tipo de claves temporales es útil para autenticación temporal o tokens de acceso seguros."
   ]
  },
  {
   "cell_type": "code",
   "execution_count": 66,
   "metadata": {},
   "outputs": [
    {
     "name": "stdout",
     "output_type": "stream",
     "text": [
      "Clave temporal segura: 0ffa6f3d63e9dffeca834669a4ee5080\n"
     ]
    }
   ],
   "source": [
    "# Ejemplo 3: Generar una clave de acceso temporal segura\n",
    "clave_temporal = secrets.token_hex(16)\n",
    "print(\"Clave temporal segura:\", clave_temporal)"
   ]
  },
  {
   "cell_type": "markdown",
   "metadata": {},
   "source": [
    "Aquí hay un ejemplo de cómo usar la librería secrets para generar una contraseña aleatoria:"
   ]
  },
  {
   "cell_type": "code",
   "execution_count": 21,
   "metadata": {},
   "outputs": [
    {
     "name": "stdout",
     "output_type": "stream",
     "text": [
      "Contraseña aleatoria: i'oFx,?yHM$9\n"
     ]
    }
   ],
   "source": [
    "import secrets\n",
    "import string\n",
    "\n",
    "def generar_contrasena(longitud):\n",
    "    caracteres = string.ascii_letters + string.digits + string.punctuation\n",
    "    contrasena = ''.join(secrets.choice(caracteres) for _ in range(longitud))\n",
    "    return contrasena\n",
    "\n",
    "longitud_contrasena = 12\n",
    "contrasena_aleatoria = generar_contrasena(longitud_contrasena)\n",
    "print(\"Contraseña aleatoria:\", contrasena_aleatoria)"
   ]
  },
  {
   "cell_type": "markdown",
   "metadata": {},
   "source": [
    "**MÓDULO RANDOM**  \n",
    "```python\n",
    "    import random\n",
    "```\n",
    "Sólo sirve para practicar con jueguitos u cosas no tan serias, no la uses para generar aleatorios cuando se trata de algo sumamente importante en cuestión de seguridad."
   ]
  },
  {
   "cell_type": "markdown",
   "metadata": {},
   "source": [
    "####    **4.1.2. PASSWORD HASHING**\n",
    "\n",
    "Si trabajas con usuarios, las necesitarás.\n",
    "- Mientras más lentas o costosas, mejor.\n",
    "- Deben ser difíciles de atacar usando software/hardware especializado.\n",
    "- Customizable.\n",
    "- Proveen mejor DX (Developer Xperience), al dar un buen conjunto de defaults que tienen sentido.\n",
    "- Siempre debes tener el hash de un password pero no debes guardar las contraseñas, sólo los hash para validarlos."
   ]
  },
  {
   "cell_type": "markdown",
   "metadata": {},
   "source": [
    "####    **4.1.3. KEY EXCHANGES**\n",
    "\n",
    "#####    **4.1.3.1. CIFRADOS SIMÉTRICOS**\n",
    "\n",
    "Los cifrados más fuertes. **`AES-256`**\n",
    "-   Existen cifrados de bloque y de flujo.\n",
    "-   El cifrado y descifrado se hacen usando la misma llave.\n",
    "-   La seguridad depende de qué tan difícil es encontrar la llave.\n",
    "\n",
    "**`AES-256`**  \n",
    "Es un algoritmo de cifrado simétrico por bloques que utiliza una clave de 256 bits. AES-256 es uno de los algoritmos de cifrado más seguros disponibles y se utiliza en una variedad de aplicaciones, incluyendo la seguridad de la información, las comunicaciones y la banca.\n",
    "\n",
    "AES-256 fue desarrollado por el Instituto Nacional de Estándares y Tecnología (NIST) en 1997 y fue seleccionado como el estándar de cifrado del gobierno de los Estados Unidos en 2001. AES-256 es un algoritmo de cifrado muy eficiente y se puede utilizar en una variedad de dispositivos, incluyendo computadoras, teléfonos inteligentes y dispositivos de red.\n",
    "\n",
    "AES-256 es un algoritmo de cifrado muy seguro. Ha sido sometido a una amplia gama de pruebas de seguridad y no se ha encontrado ningún ataque práctico contra el algoritmo. AES-256 se considera seguro para proteger los datos incluso en los próximos años.\n",
    "\n",
    "AES-256 es una excelente opción para cifrar datos que necesitan estar protegidos contra el acceso no autorizado. AES-256 es un algoritmo seguro, eficiente y ampliamente utilizado.\n",
    "\n",
    "Aquí hay algunos ejemplos de cómo se utiliza AES-256:\n",
    "\n",
    "Almacenamiento en la nube: AES-256 se utiliza para cifrar los datos que se almacenan en la nube. Esto ayuda a proteger los datos contra el acceso no autorizado por parte de terceros.\n",
    "Comunicaciones: AES-256 se utiliza para cifrar las comunicaciones, como las llamadas telefónicas, los correos electrónicos y las transmisiones de datos. Esto ayuda a proteger la privacidad de los datos y a evitar que sean interceptados por terceros.\n",
    "Banca: AES-256 se utiliza para cifrar los datos financieros, como las contraseñas, las cuentas bancarias y las transacciones. Esto ayuda a proteger los datos financieros contra el acceso no autorizado y el fraude.\n",
    "\n",
    "#####    **4.1.3.2. CIFRADOS ASIMÉTRICOS**\n",
    "\n",
    "Los cifrados más convenientes.\n",
    "-   También se conocen como cifrados asimétricos.\n",
    "-   Se usa una llave para cifrar y otra llave para descifrar.\n",
    "-   ära dar la misma seguridad que un `cifrado simétrico` necesitan llaves mucho más grandes `(ej. 2096)`\n",
    "\n",
    "**`RSA (Rivest-Shamir-Adleman)`** \n",
    "Un cifrado asimétrico popular es RSA (Rivest-Shamir-Adleman). RSA es uno de los primeros y más ampliamente utilizados algoritmos de cifrado asimétrico, y su seguridad se basa en el problema de la factorización de números enteros grandes en teoría de números.\n",
    "\n",
    "En RSA, cada entidad (usuario o sistema) tiene un par de claves matemáticamente relacionadas:\n",
    "\n",
    "Clave pública: Es ampliamente distribuida y se utiliza para cifrar datos o mensajes. Cualquier persona puede acceder a la clave pública sin comprometer la seguridad del sistema.\n",
    "\n",
    "Clave privada: Es mantenida en secreto por su propietario y se utiliza para descifrar los datos cifrados con la clave pública correspondiente. Solo la entidad con la clave privada puede descifrar los datos cifrados con su clave pública.\n",
    "\n",
    "El proceso de cifrado y descifrado en RSA es el siguiente:\n",
    "\n",
    "Cifrado: La entidad que desea enviar un mensaje cifra el mensaje utilizando la clave pública del destinatario. El destinatario, que es el único que tiene acceso a su clave privada, será capaz de descifrar el mensaje cifrado.\n",
    "\n",
    "Descifrado: El destinatario utiliza su clave privada para descifrar el mensaje recibido, revelando el contenido original.\n",
    "\n",
    "El algoritmo RSA se utiliza ampliamente en aplicaciones como el cifrado de comunicaciones seguras en línea, la firma digital para autenticar la identidad del remitente de un mensaje y el intercambio seguro de claves criptográficas en protocolos de seguridad.\n",
    "\n",
    "A pesar de ser ampliamente utilizado y estudiado durante muchos años, RSA es computacionalmente intensivo y puede ser lento en comparación con otros algoritmos más modernos, especialmente cuando se cifran grandes cantidades de datos. Por esta razón, en la práctica, a menudo se combina con otros algoritmos criptográficos, como AES (cifrado simétrico), para lograr un rendimiento eficiente y una mayor seguridad en sistemas y aplicaciones.\n",
    "\n",
    "#####    **4.1.3.2. CIFRADOS AUTENTICADO**\n",
    "\n",
    "Es más seguro y útil en la realidad.\n",
    "-   Provee los 3 valores: Integridad, Confidencialidad y Autenticidad.\n",
    "-   Es el tipo de algoritmos más usados para transmitir información en internet.\n",
    "-   Combinan un tag de autenticación, el texto cifrado y a veces, datos asociados.\n",
    "\n",
    "**`AES-GCM`**  \n",
    "\n",
    "AES-GCM (Advanced Encryption Standard - Galois/Counter Mode): Es una combinación de dos algoritmos criptográficos ampliamente utilizados. AES es un algoritmo de cifrado simétrico que se usa para cifrar y descifrar datos, mientras que GCM es un modo de operación que proporciona autenticación de datos junto con el cifrado. AES-GCM utiliza una clave compartida entre el emisor y el receptor para cifrar y descifrar los datos, y también genera una etiqueta de autenticación (un código de autenticación de mensaje - MAC) que se adjunta al mensaje para garantizar la integridad y autenticidad de los datos. Es una combinación popular y segura utilizada en protocolos de seguridad como TLS/SSL.\n",
    "\n",
    "**`ChaCha20-Poly1305`**\n",
    "\n",
    "ChaCha20-Poly1305: Es otra combinación de algoritmos criptográficos que también ofrece cifrado y autenticación. ChaCha20 es un algoritmo de cifrado de flujo desarrollado por Daniel J. Bernstein, que es eficiente y adecuado para implementaciones en software y hardware. Poly1305, por otro lado, es una función de autenticación de mensajes que proporciona autenticación y detección de modificaciones en los datos. ChaCha20-Poly1305 también se utiliza en protocolos de seguridad como TLS/SSL y ofrece un rendimiento eficiente en una amplia variedad de plataformas.\n",
    "\n",
    "Ambas combinaciones (AES-GCM y ChaCha20-Poly1305) son ampliamente utilizadas en aplicaciones de seguridad y encriptación, como la protección de datos en tránsito en redes, la autenticación de mensajes y la seguridad de la información en general. La elección entre ambas depende de las características específicas de la aplicación, el rendimiento requerido y las preferencias de implementación. Ambas combinaciones ofrecen un alto nivel de seguridad y protección para los datos, siempre y cuando se utilicen adecuadamente con claves seguras y protocolos bien implementados."
   ]
  },
  {
   "cell_type": "markdown",
   "metadata": {},
   "source": [
    "|Cifrado simétrico|Cifrado asimétrico|\n",
    "|:----|:----|\n",
    "|Usa una sola clave para cifrar y descifrar datos|Usa una clave pública para cifrar los datos, y una clave privada para descifrar la información|\n",
    "|Proceso de cifrado más rápido|Proceso de cifrado más lento|\n",
    "|Los tamaños de clave de ejemplo son de 128 o 256 bits|Los tamaños de clave de ejemplo son de 2048 bits o mayores|\n",
    "|No consume muchos recursos|Utiliza más recursos|\n",
    "|El texto cifrado es más pequeño o del mismo tamaño que el texto original en claro.|El texto cifrado es mayor o del mismo tamaño que el texto cifrado original|\n",
    "|Tanto los algoritmos simétricos como los asimétricos permiten la autenticación.|Tanto los algoritmos simétricos como los asimétricos permiten la autenticación. Con un algoritmo asimétrico sólo se consigue el no repudio.|\n",
    "|Algunos ejemplos de algoritmos son AES, DES, 3DES, IDEA y Blowfish.|Algunos ejemplos son los algoritmos RSA, ECC, DSA y El Gamal.|\n",
    "|Mejor manejo y transferencia de grandes cantidades de datos|Mejor manejo y transferencia de pequeñas cantidades de datos|\n",
    "|Existe el riesgo de que alguien robe la llave si no se gestiona adecuadamente|Tiene el riesgo de perder la clave privada (el par de claves es irrevocable|\n"
   ]
  }
 ],
 "metadata": {
  "kernelspec": {
   "display_name": "Python 3",
   "language": "python",
   "name": "python3"
  },
  "language_info": {
   "codemirror_mode": {
    "name": "ipython",
    "version": 3
   },
   "file_extension": ".py",
   "mimetype": "text/x-python",
   "name": "python",
   "nbconvert_exporter": "python",
   "pygments_lexer": "ipython3",
   "version": "3.11.2"
  },
  "orig_nbformat": 4
 },
 "nbformat": 4,
 "nbformat_minor": 2
}
